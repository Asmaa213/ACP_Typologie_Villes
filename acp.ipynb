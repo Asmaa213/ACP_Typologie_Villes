{
 "cells": [
  {
   "cell_type": "markdown",
   "metadata": {},
   "source": [
    "<h2>Analyse en composantes principales</h2>"
   ]
  },
  {
   "cell_type": "markdown",
   "metadata": {},
   "source": [
    "<h3>Importation des données</h3>"
   ]
  },
  {
   "cell_type": "code",
   "execution_count": 19,
   "metadata": {},
   "outputs": [
    {
     "data": {
      "text/html": [
       "<div>\n",
       "<style scoped>\n",
       "    .dataframe tbody tr th:only-of-type {\n",
       "        vertical-align: middle;\n",
       "    }\n",
       "\n",
       "    .dataframe tbody tr th {\n",
       "        vertical-align: top;\n",
       "    }\n",
       "\n",
       "    .dataframe thead th {\n",
       "        text-align: right;\n",
       "    }\n",
       "</style>\n",
       "<table border=\"1\" class=\"dataframe\">\n",
       "  <thead>\n",
       "    <tr style=\"text-align: right;\">\n",
       "      <th></th>\n",
       "      <th>JANVIERp</th>\n",
       "      <th>FEVRIERp</th>\n",
       "      <th>MARSp</th>\n",
       "      <th>AVRILp</th>\n",
       "      <th>MAIp</th>\n",
       "      <th>JUINp</th>\n",
       "      <th>JUILLETp</th>\n",
       "      <th>AOUTp</th>\n",
       "      <th>SEPTEMBREp</th>\n",
       "      <th>OCTOBREp</th>\n",
       "      <th>...</th>\n",
       "      <th>SEPTEMBREnb.j.pl</th>\n",
       "      <th>OCTOBREnb.j.pl</th>\n",
       "      <th>NOVEMBREnb.j.pl</th>\n",
       "      <th>DECEMBREnb.j.pl</th>\n",
       "      <th>Nombre annuel de jours de pluie</th>\n",
       "      <th>Température moyenne annuelle</th>\n",
       "      <th>Amplitude annuelle des températures</th>\n",
       "      <th>Insolation annuelle</th>\n",
       "      <th>Précipitations de mai à aout</th>\n",
       "      <th>Précipitations sept-oct</th>\n",
       "    </tr>\n",
       "  </thead>\n",
       "  <tbody>\n",
       "    <tr>\n",
       "      <th>Ajaccio</th>\n",
       "      <td>78.0</td>\n",
       "      <td>69.0</td>\n",
       "      <td>51.0</td>\n",
       "      <td>39.0</td>\n",
       "      <td>43.0</td>\n",
       "      <td>23.0</td>\n",
       "      <td>10.0</td>\n",
       "      <td>15.0</td>\n",
       "      <td>43.0</td>\n",
       "      <td>81.0</td>\n",
       "      <td>...</td>\n",
       "      <td>6.0</td>\n",
       "      <td>10.0</td>\n",
       "      <td>11.0</td>\n",
       "      <td>13.0</td>\n",
       "      <td>95.0</td>\n",
       "      <td>14.71</td>\n",
       "      <td>14.5</td>\n",
       "      <td>2811.0</td>\n",
       "      <td>13.9</td>\n",
       "      <td>25.8</td>\n",
       "    </tr>\n",
       "    <tr>\n",
       "      <th>Angers</th>\n",
       "      <td>65.0</td>\n",
       "      <td>50.0</td>\n",
       "      <td>60.0</td>\n",
       "      <td>45.0</td>\n",
       "      <td>50.0</td>\n",
       "      <td>55.0</td>\n",
       "      <td>35.0</td>\n",
       "      <td>60.0</td>\n",
       "      <td>55.0</td>\n",
       "      <td>65.0</td>\n",
       "      <td>...</td>\n",
       "      <td>12.0</td>\n",
       "      <td>13.0</td>\n",
       "      <td>15.0</td>\n",
       "      <td>16.0</td>\n",
       "      <td>154.0</td>\n",
       "      <td>11.28</td>\n",
       "      <td>14.5</td>\n",
       "      <td>1899.0</td>\n",
       "      <td>29.0</td>\n",
       "      <td>30.8</td>\n",
       "    </tr>\n",
       "    <tr>\n",
       "      <th>Angoulème</th>\n",
       "      <td>79.0</td>\n",
       "      <td>68.0</td>\n",
       "      <td>64.0</td>\n",
       "      <td>62.0</td>\n",
       "      <td>70.0</td>\n",
       "      <td>58.0</td>\n",
       "      <td>53.0</td>\n",
       "      <td>66.0</td>\n",
       "      <td>69.0</td>\n",
       "      <td>70.0</td>\n",
       "      <td>...</td>\n",
       "      <td>12.0</td>\n",
       "      <td>13.0</td>\n",
       "      <td>15.0</td>\n",
       "      <td>16.0</td>\n",
       "      <td>160.0</td>\n",
       "      <td>12.02</td>\n",
       "      <td>14.9</td>\n",
       "      <td>1989.0</td>\n",
       "      <td>29.9</td>\n",
       "      <td>31.0</td>\n",
       "    </tr>\n",
       "    <tr>\n",
       "      <th>Besançon</th>\n",
       "      <td>94.0</td>\n",
       "      <td>87.0</td>\n",
       "      <td>75.0</td>\n",
       "      <td>74.0</td>\n",
       "      <td>86.0</td>\n",
       "      <td>107.0</td>\n",
       "      <td>80.0</td>\n",
       "      <td>116.0</td>\n",
       "      <td>106.0</td>\n",
       "      <td>78.0</td>\n",
       "      <td>...</td>\n",
       "      <td>13.0</td>\n",
       "      <td>14.0</td>\n",
       "      <td>15.0</td>\n",
       "      <td>15.0</td>\n",
       "      <td>169.0</td>\n",
       "      <td>10.04</td>\n",
       "      <td>17.6</td>\n",
       "      <td>1897.0</td>\n",
       "      <td>35.8</td>\n",
       "      <td>35.5</td>\n",
       "    </tr>\n",
       "    <tr>\n",
       "      <th>Biarritz</th>\n",
       "      <td>128.0</td>\n",
       "      <td>105.0</td>\n",
       "      <td>98.0</td>\n",
       "      <td>102.0</td>\n",
       "      <td>100.0</td>\n",
       "      <td>91.0</td>\n",
       "      <td>69.0</td>\n",
       "      <td>123.0</td>\n",
       "      <td>155.0</td>\n",
       "      <td>152.0</td>\n",
       "      <td>...</td>\n",
       "      <td>14.0</td>\n",
       "      <td>15.0</td>\n",
       "      <td>16.0</td>\n",
       "      <td>17.0</td>\n",
       "      <td>177.0</td>\n",
       "      <td>13.58</td>\n",
       "      <td>12.3</td>\n",
       "      <td>1921.0</td>\n",
       "      <td>26.0</td>\n",
       "      <td>36.8</td>\n",
       "    </tr>\n",
       "  </tbody>\n",
       "</table>\n",
       "<p>5 rows × 31 columns</p>\n",
       "</div>"
      ],
      "text/plain": [
       "           JANVIERp  FEVRIERp  MARSp  AVRILp   MAIp  JUINp  JUILLETp  AOUTp  \\\n",
       "Ajaccio        78.0      69.0   51.0    39.0   43.0   23.0      10.0   15.0   \n",
       "Angers         65.0      50.0   60.0    45.0   50.0   55.0      35.0   60.0   \n",
       "Angoulème      79.0      68.0   64.0    62.0   70.0   58.0      53.0   66.0   \n",
       "Besançon       94.0      87.0   75.0    74.0   86.0  107.0      80.0  116.0   \n",
       "Biarritz      128.0     105.0   98.0   102.0  100.0   91.0      69.0  123.0   \n",
       "\n",
       "           SEPTEMBREp  OCTOBREp  ...  SEPTEMBREnb.j.pl  OCTOBREnb.j.pl  \\\n",
       "Ajaccio          43.0      81.0  ...               6.0            10.0   \n",
       "Angers           55.0      65.0  ...              12.0            13.0   \n",
       "Angoulème        69.0      70.0  ...              12.0            13.0   \n",
       "Besançon        106.0      78.0  ...              13.0            14.0   \n",
       "Biarritz        155.0     152.0  ...              14.0            15.0   \n",
       "\n",
       "           NOVEMBREnb.j.pl  DECEMBREnb.j.pl  Nombre annuel de jours de pluie  \\\n",
       "Ajaccio               11.0             13.0                             95.0   \n",
       "Angers                15.0             16.0                            154.0   \n",
       "Angoulème             15.0             16.0                            160.0   \n",
       "Besançon              15.0             15.0                            169.0   \n",
       "Biarritz              16.0             17.0                            177.0   \n",
       "\n",
       "           Température moyenne annuelle  Amplitude annuelle des températures  \\\n",
       "Ajaccio                           14.71                                 14.5   \n",
       "Angers                            11.28                                 14.5   \n",
       "Angoulème                         12.02                                 14.9   \n",
       "Besançon                          10.04                                 17.6   \n",
       "Biarritz                          13.58                                 12.3   \n",
       "\n",
       "           Insolation annuelle  Précipitations de mai à aout  \\\n",
       "Ajaccio                 2811.0                          13.9   \n",
       "Angers                  1899.0                          29.0   \n",
       "Angoulème               1989.0                          29.9   \n",
       "Besançon                1897.0                          35.8   \n",
       "Biarritz                1921.0                          26.0   \n",
       "\n",
       "           Précipitations sept-oct  \n",
       "Ajaccio                       25.8  \n",
       "Angers                        30.8  \n",
       "Angoulème                     31.0  \n",
       "Besançon                      35.5  \n",
       "Biarritz                      36.8  \n",
       "\n",
       "[5 rows x 31 columns]"
      ]
     },
     "execution_count": 19,
     "metadata": {},
     "output_type": "execute_result"
    }
   ],
   "source": [
    "import pandas as pd\n",
    "#chargement de la première feuille de données\n",
    "data = pd.read_csv(\"villes.csv\", delimiter=\";\", encoding='latin-1', header=0, index_col=0)\n",
    "#matric shape\n",
    "data.shape\n",
    "#suppression des quatre dernière ligne\n",
    "data=data.dropna()\n",
    "data.drop(columns=[\"Latitude\", \"Longitude\", \"Géographie\"],inplace=True)\n",
    "#Nombre d'observations\n",
    "n = data.shape[0]\n",
    "#Nombre de variables\n",
    "p = data.shape[1]\n",
    "data.head(5)"
   ]
  },
  {
   "cell_type": "markdown",
   "metadata": {},
   "source": [
    "<h3>Préparation des données</h3>"
   ]
  },
  {
   "cell_type": "markdown",
   "metadata": {},
   "source": [
    "<h4>Centrage et réduction</h4>"
   ]
  },
  {
   "cell_type": "code",
   "execution_count": 14,
   "metadata": {},
   "outputs": [
    {
     "name": "stdout",
     "output_type": "stream",
     "text": [
      "[[ 0.54719493  0.49892739 -0.35160018 ...  1.88031208 -2.08607274\n",
      "  -1.87189519]\n",
      " [-0.0218878  -0.60486403  0.25283608 ... -0.42367579 -0.17700011\n",
      "  -0.91627302]\n",
      " [ 0.59097052  0.44083311  0.52147442 ... -0.19630856 -0.06321433\n",
      "  -0.87804813]\n",
      " ...\n",
      " [-0.54719493 -0.60486403 -0.28444059 ...  0.03611126  0.34135736\n",
      "  -0.61047393]\n",
      " [-0.10943899 -0.3143926  -0.28444059 ... -0.52472789  0.16435725\n",
      "  -0.66781126]\n",
      " [-0.67852171 -0.89533546 -0.35160018 ... -0.48935965  1.42864376\n",
      "   1.22432064]]\n"
     ]
    }
   ],
   "source": [
    "import sklearn\n",
    "#classe pour standardisation\n",
    "from sklearn.preprocessing import StandardScaler\n",
    "#instanciation \n",
    "sc = StandardScaler() \n",
    "#transformation – centrage-réduction\n",
    "m = sc.fit_transform(data) \n",
    "print(m)"
   ]
  },
  {
   "cell_type": "markdown",
   "metadata": {},
   "source": [
    "<h4>Calcul de la moyenne et l'écart-type</h4>"
   ]
  },
  {
   "cell_type": "code",
   "execution_count": 15,
   "metadata": {},
   "outputs": [
    {
     "name": "stdout",
     "output_type": "stream",
     "text": [
      "[-2.61228947e-17 -1.46941283e-16  3.42862993e-17 -1.16328515e-16\n",
      "  2.41636776e-16 -9.79608551e-17 -4.57150657e-17 -1.27349112e-16\n",
      "  1.42043240e-16 -1.17553026e-16 -1.79594901e-16  1.89390987e-16\n",
      " -1.70411071e-16  8.48994078e-17 -3.91843420e-17  3.98374144e-16\n",
      " -2.93882565e-17  3.06944013e-16 -9.46954933e-17  1.86125625e-16\n",
      " -2.93882565e-17  9.46954933e-17 -1.99187072e-16  6.85725986e-17\n",
      "  2.74290394e-16 -4.24497039e-16 -6.92256709e-16  9.24097400e-16\n",
      "  4.76742828e-16 -7.77156117e-16  1.47594355e-15]\n",
      "[1. 1. 1. 1. 1. 1. 1. 1. 1. 1. 1. 1. 1. 1. 1. 1. 1. 1. 1. 1. 1. 1. 1. 1.\n",
      " 1. 1. 1. 1. 1. 1. 1.]\n"
     ]
    }
   ],
   "source": [
    "import numpy as np\n",
    "#moyenne\n",
    "print(np.mean(m, axis=0))\n",
    "#écart-type\n",
    "print(np.std(m, axis=0, ddof=0))"
   ]
  },
  {
   "cell_type": "markdown",
   "metadata": {},
   "source": [
    "<h3>Analyse des données en utilisant l'ACP</h3>"
   ]
  },
  {
   "cell_type": "markdown",
   "metadata": {},
   "source": [
    "<h4>Instanciation et lancement des calculs</h4>"
   ]
  },
  {
   "cell_type": "code",
   "execution_count": 16,
   "metadata": {},
   "outputs": [
    {
     "name": "stdout",
     "output_type": "stream",
     "text": [
      "31\n"
     ]
    },
    {
     "data": {
      "text/plain": [
       "array([1.63104250e+01, 8.46763961e+00, 3.58463927e+00, 8.92727763e-01,\n",
       "       3.74093312e-01, 2.55792223e-01, 2.28443994e-01, 1.59833769e-01,\n",
       "       1.40849258e-01, 1.16177125e-01, 1.01867403e-01, 6.29363401e-02,\n",
       "       4.98929290e-02, 4.45100594e-02, 4.09553020e-02, 3.01632603e-02,\n",
       "       2.63692248e-02, 2.36611237e-02, 2.13183279e-02, 1.89832378e-02,\n",
       "       1.26527449e-02, 1.03863968e-02, 8.58850592e-03, 6.38017773e-03,\n",
       "       4.88220556e-03, 2.91369764e-03, 1.93877820e-03, 6.72979945e-04,\n",
       "       3.05972093e-04, 2.57621422e-30, 8.57178859e-32])"
      ]
     },
     "execution_count": 16,
     "metadata": {},
     "output_type": "execute_result"
    }
   ],
   "source": [
    "from sklearn.decomposition import PCA \n",
    "#instanciation \n",
    "acp = PCA(svd_solver='full')\n",
    "#calculs \n",
    "coord = acp.fit_transform(m)\n",
    "#nombre de composantes calculées\n",
    "print(acp.n_components_)\n"
   ]
  },
  {
   "cell_type": "markdown",
   "metadata": {},
   "source": [
    "<h4>Valeurs propres</h4>"
   ]
  },
  {
   "cell_type": "code",
   "execution_count": 17,
   "metadata": {},
   "outputs": [
    {
     "data": {
      "text/plain": [
       "array([5.26142742e-01, 2.73149665e-01, 1.15633525e-01, 2.87976698e-02,\n",
       "       1.20675262e-02, 8.25136202e-03, 7.36916110e-03, 5.15592803e-03,\n",
       "       4.54352445e-03, 3.74764920e-03, 3.28604527e-03, 2.03020452e-03,\n",
       "       1.60944932e-03, 1.43580837e-03, 1.32113877e-03, 9.73008398e-04,\n",
       "       8.50620156e-04, 7.63262054e-04, 6.87687998e-04, 6.12362511e-04,\n",
       "       4.08153063e-04, 3.35045058e-04, 2.77048578e-04, 2.05812185e-04,\n",
       "       1.57490502e-04, 9.39902465e-05, 6.25412323e-05, 2.17090305e-05,\n",
       "       9.87006752e-06, 8.31036844e-32, 2.76509309e-33])"
      ]
     },
     "execution_count": 17,
     "metadata": {},
     "output_type": "execute_result"
    }
   ],
   "source": [
    "# Variance expliquée\n",
    "acp.explained_variance_ #les valeurs propres associées aux composantes principales\n",
    "#Variance expliquée corrigée\n",
    "val_p = (n-1)/n*acp.explained_variance_ # Calcul des valeurs propres corrigées avec l'expression (n-1)/n\n",
    "val_p \n",
    "#Proportion de variance expliquée\n",
    "acp.explained_variance_ratio_"
   ]
  },
  {
   "cell_type": "code",
   "execution_count": 20,
   "metadata": {},
   "outputs": [],
   "source": [
    "# Liste des composantes principales\n",
    "list_acp = [\"CP1\",\"CP2\",\"CP3\",\"CP4\",\"CP5\",\"CP6\",\"CP7\",\"CP8\",\"CP9\",\"CP10\",\"CP11\",\"CP12\",\"CP13\",\"CP14\",\"CP15\",\"CP16\", \"CP17\",\"CP18\",\"CP19\",\"CP20\",\"CP21\",\"CP22\",\"CP23\",\"CP24\", \"CP25\",\"CP26\",\"CP27\",\"CP28\",\"CP29\",\"CP30\",\"CP31\"]\n",
    "df_acp = pd.DataFrame(list_acp, columns = [\"ACP\"])\n",
    "df_acp['explained_variance'] = acp.explained_variance_"
   ]
  },
  {
   "cell_type": "code",
   "execution_count": 21,
   "metadata": {},
   "outputs": [
    {
     "data": {
      "text/plain": [
       "<Axes: xlabel='explained_variance', ylabel='ACP'>"
      ]
     },
     "execution_count": 21,
     "metadata": {},
     "output_type": "execute_result"
    },
    {
     "data": {
      "image/png": "[encoded data removed]",
      "text/plain": [
       "<Figure size 600x800 with 1 Axes>"
      ]
     },
     "metadata": {},
     "output_type": "display_data"
    }
   ],
   "source": [
    "import seaborn as sns\n",
    "import matplotlib.pyplot as plt\n",
    "sns.set(style=\"whitegrid\")\n",
    "\n",
    "# Initialisons le graphique matplotlib\n",
    "f, ax = plt.subplots(figsize=(6, 8))\n",
    "\n",
    "# Histogramme variance expliquée\n",
    "sns.set_color_codes(\"pastel\")\n",
    "sns.barplot(x='explained_variance', y=\"ACP\", data=df_acp,\n",
    "            label=\"Total\", color=\"b\")"
   ]
  }
 ],
 "metadata": {
  "kernelspec": {
   "display_name": "Python 3",
   "language": "python",
   "name": "python3"
  },
  "language_info": {
   "codemirror_mode": {
    "name": "ipython",
    "version": 3
   },
   "file_extension": ".py",
   "mimetype": "text/x-python",
   "name": "python",
   "nbconvert_exporter": "python",
   "pygments_lexer": "ipython3",
   "version": "3.11.3"
  }
 },
 "nbformat": 4,
 "nbformat_minor": 2
}
